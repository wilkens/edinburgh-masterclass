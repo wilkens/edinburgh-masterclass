{
 "cells": [
  {
   "cell_type": "markdown",
   "metadata": {},
   "source": [
    "# 04. Networks\n",
    "\n",
    "In this brief session, we'll see how to use Gephi to calculate networks statistics concerning character relationships in a single novel (*Les Misérables* by Victor Hugo, 1862). Nearly all of the work will happen in Gephi; here, a few definitions.\n",
    "\n",
    "* **Node**: An entity or object that has connections to other nodes. Here, a character in the novel.\n",
    "* **Edge**: A connection between nodes. Here, shared appeance by two characters on the same page.\n",
    "* **Degree**: The number of edges connected to a node.\n",
    "* **Closeness centrality**: Average number of hops from this node to each other node inthe network.\n",
    "* **Betweenness centrality**: Fraction of cases in which this node on the shortest path between two other nodes.\n",
    "* **Eigenvector centrality**: How well connected is this node to the most connected nodes?\n",
    "* **Modularity class**: The cluster of (relatively) closely connected nodes to which this node belongs.\n"
   ]
  },
  {
   "cell_type": "code",
   "execution_count": null,
   "metadata": {
    "collapsed": true
   },
   "outputs": [],
   "source": []
  }
 ],
 "metadata": {
  "kernelspec": {
   "display_name": "Python [Root]",
   "language": "python",
   "name": "Python [Root]"
  },
  "language_info": {
   "codemirror_mode": {
    "name": "ipython",
    "version": 3
   },
   "file_extension": ".py",
   "mimetype": "text/x-python",
   "name": "python",
   "nbconvert_exporter": "python",
   "pygments_lexer": "ipython3",
   "version": "3.5.0rc4"
  }
 },
 "nbformat": 4,
 "nbformat_minor": 0
}
