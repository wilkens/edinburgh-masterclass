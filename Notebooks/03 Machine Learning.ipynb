{
 "cells": [
  {
   "cell_type": "markdown",
   "metadata": {},
   "source": [
    "# 03. Machine learning\n",
    "\n",
    "This session will ...\n",
    "\n",
    "### Recreate the corpus"
   ]
  },
  {
   "cell_type": "code",
   "execution_count": 252,
   "metadata": {
    "collapsed": true
   },
   "outputs": [],
   "source": [
    "# Suppress compatibility warnings\n",
    "import warnings\n",
    "warnings.filterwarnings('ignore')"
   ]
  },
  {
   "cell_type": "code",
   "execution_count": 253,
   "metadata": {
    "collapsed": false
   },
   "outputs": [
    {
     "data": {
      "text/html": [
       "<div>\n",
       "<table border=\"1\" class=\"dataframe\">\n",
       "  <thead>\n",
       "    <tr style=\"text-align: right;\">\n",
       "      <th></th>\n",
       "      <th>nation</th>\n",
       "      <th>author</th>\n",
       "      <th>title</th>\n",
       "      <th>pubdate</th>\n",
       "      <th>gender</th>\n",
       "      <th>wordcount</th>\n",
       "    </tr>\n",
       "    <tr>\n",
       "      <th>file</th>\n",
       "      <th></th>\n",
       "      <th></th>\n",
       "      <th></th>\n",
       "      <th></th>\n",
       "      <th></th>\n",
       "      <th></th>\n",
       "    </tr>\n",
       "  </thead>\n",
       "  <tbody>\n",
       "    <tr>\n",
       "      <th>A-Cather-Antonia-1918-F</th>\n",
       "      <td>A</td>\n",
       "      <td>Cather</td>\n",
       "      <td>Antonia</td>\n",
       "      <td>1918</td>\n",
       "      <td>F</td>\n",
       "      <td>97574</td>\n",
       "    </tr>\n",
       "    <tr>\n",
       "      <th>A-Chesnutt-Marrow-1901-M</th>\n",
       "      <td>A</td>\n",
       "      <td>Chesnutt</td>\n",
       "      <td>Marrow</td>\n",
       "      <td>1901</td>\n",
       "      <td>M</td>\n",
       "      <td>110288</td>\n",
       "    </tr>\n",
       "    <tr>\n",
       "      <th>A-Crane-Maggie-1893-M</th>\n",
       "      <td>A</td>\n",
       "      <td>Crane</td>\n",
       "      <td>Maggie</td>\n",
       "      <td>1893</td>\n",
       "      <td>M</td>\n",
       "      <td>28628</td>\n",
       "    </tr>\n",
       "    <tr>\n",
       "      <th>A-Davis-Life_Iron_mills-1861-F</th>\n",
       "      <td>A</td>\n",
       "      <td>Davis</td>\n",
       "      <td>Life Iron mills</td>\n",
       "      <td>1861</td>\n",
       "      <td>F</td>\n",
       "      <td>18789</td>\n",
       "    </tr>\n",
       "    <tr>\n",
       "      <th>A-Dreiser-Sister_Carrie-1900-M</th>\n",
       "      <td>A</td>\n",
       "      <td>Dreiser</td>\n",
       "      <td>Sister Carrie</td>\n",
       "      <td>1900</td>\n",
       "      <td>M</td>\n",
       "      <td>194062</td>\n",
       "    </tr>\n",
       "  </tbody>\n",
       "</table>\n",
       "</div>"
      ],
      "text/plain": [
       "                               nation    author            title  pubdate  \\\n",
       "file                                                                        \n",
       "A-Cather-Antonia-1918-F             A    Cather          Antonia     1918   \n",
       "A-Chesnutt-Marrow-1901-M            A  Chesnutt           Marrow     1901   \n",
       "A-Crane-Maggie-1893-M               A     Crane           Maggie     1893   \n",
       "A-Davis-Life_Iron_mills-1861-F      A     Davis  Life Iron mills     1861   \n",
       "A-Dreiser-Sister_Carrie-1900-M      A   Dreiser    Sister Carrie     1900   \n",
       "\n",
       "                               gender  wordcount  \n",
       "file                                              \n",
       "A-Cather-Antonia-1918-F             F      97574  \n",
       "A-Chesnutt-Marrow-1901-M            M     110288  \n",
       "A-Crane-Maggie-1893-M               M      28628  \n",
       "A-Davis-Life_Iron_mills-1861-F      F      18789  \n",
       "A-Dreiser-Sister_Carrie-1900-M      M     194062  "
      ]
     },
     "execution_count": 253,
     "metadata": {},
     "output_type": "execute_result"
    }
   ],
   "source": [
    "import pandas as pd\n",
    "from nltk.corpus.reader.plaintext import PlaintextCorpusReader\n",
    "\n",
    "text_dir = '../Data/Texts/'\n",
    "corpus = PlaintextCorpusReader(text_dir, '.*\\.txt')\n",
    "\n",
    "# A function to turn fileids into a table of metadata\n",
    "def parse_fileids(fileids):\n",
    "    '''Takes a list of file names formatted like A-Cather-Antonia-1918-F.txt.\n",
    "       Returns a pandas dataframe of derived metadata.'''\n",
    "    import pandas as pd\n",
    "    meta = {}\n",
    "    for fileid in fileids:\n",
    "        file = fileid.strip('.txt') # Get rid of file suffix\n",
    "        fields = file.split('-') # Split on dashes\n",
    "        fields[2] = fields[2].replace('_', ' ') # Remove underscore from titles\n",
    "        fields[3] = int(fields[3])\n",
    "        meta[file] = fields\n",
    "    metadata = pd.DataFrame.from_dict(meta, orient='index') # Build dataframe\n",
    "    metadata.columns = ['nation', 'author', 'title', 'pubdate', 'gender'] # Col names\n",
    "    return metadata.sort_index() # Note we need to sort b/c datframe built from dictionary\n",
    "\n",
    "def collect_stats(corpus):\n",
    "    '''Takes an NLTK corpus as input. \n",
    "       Returns a pandas dataframe of stats indexed to fileid.'''\n",
    "    import nltk\n",
    "    import pandas as pd\n",
    "    stats = {}\n",
    "    for fileid in corpus.fileids():\n",
    "        word_count = len(corpus.words(fileid))\n",
    "        stats[fileid.strip('.txt')] = {'wordcount':word_count}\n",
    "    statistics = pd.DataFrame.from_dict(stats, orient='index')\n",
    "    return statistics.sort_index()\n",
    "\n",
    "books = parse_fileids(corpus.fileids())\n",
    "stats = collect_stats(corpus)\n",
    "books = books.join(stats)\n",
    "books.index.set_names('file', inplace=True)\n",
    "books.head()"
   ]
  },
  {
   "cell_type": "code",
   "execution_count": null,
   "metadata": {
    "collapsed": true
   },
   "outputs": [],
   "source": []
  }
 ],
 "metadata": {
  "anaconda-cloud": {},
  "kernelspec": {
   "display_name": "Python [carto]",
   "language": "python",
   "name": "Python [carto]"
  },
  "language_info": {
   "codemirror_mode": {
    "name": "ipython",
    "version": 3
   },
   "file_extension": ".py",
   "mimetype": "text/x-python",
   "name": "python",
   "nbconvert_exporter": "python",
   "pygments_lexer": "ipython3",
   "version": "3.5.0rc4"
  }
 },
 "nbformat": 4,
 "nbformat_minor": 0
}
