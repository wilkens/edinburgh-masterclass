{
 "cells": [
  {
   "cell_type": "markdown",
   "metadata": {},
   "source": [
    "# Introduction and Setup"
   ]
  },
  {
   "cell_type": "markdown",
   "metadata": {},
   "source": [
    "## Setup\n",
    "\n",
    "You can follow everything we do over the next two days without running any code on your own machine. That's fine. If you later want to lay hands on the sample code used in the class, you can find it [on GitHub](https://github.com/wilkens/edinburgh-masterclass) or linked from the [syllabus](https://mattwilkens.com/teaching/edinburgh-masterclass/).\n",
    "\n",
    "If you want to work with live code during our sessions, you'll need two things:\n",
    "\n",
    "* A **working Python environment**. Python 3 is required and Continuum's [Anaconda](https://www.continuum.io/downloads) environment is strongly recommended.\n",
    "* A **copy of the course materials** on your own machine. Download or, if you know what you're doing, clone these from [GitHub](https://github.com/wilkens/edinburgh-masterclass).\n",
    "\n",
    "## Getting Python\n",
    "\n",
    "Anaconda includes almost all of the packages that you'll need for the course (and, indeed, that you'll _ever_ need to do data science in Python). But there are three packages that we'll add:\n",
    "\n",
    "* `seaborn`, a set of improvements and extensions to Python's `matplotlib` for statistical data visualization.\n",
    "* `cartopy`, which helps with map making.\n",
    "* `googlemaps`, an interface to Google's mapping APIs.\n",
    "\n",
    "The easiest way to add packages to Anaconda is either from the command line with `conda install` or via the graphical installer that's part of the Anaconda Navigator application.\n",
    "\n",
    "To install `seaborn` from the command line using conda, type:\n",
    "\n",
    "```\n",
    "conda install seaborn\n",
    "```\n",
    "\n",
    "You'll likely be prompted to install some additional packages along with `seaborn`. That's good - it's what `conda` is designed to do. Type `yes` when prompted. \n",
    "\n",
    "The other two aren't quite so easy, because they aren't in the main Anaconda repository. `cartopy` is available from a different `conda` repo, so you can install it with just a little extra information:\n",
    "\n",
    "```\n",
    "conda install -c scitools cartopy\n",
    "```\n",
    "\n",
    "Note that installing cartopy may force a few Anaconda packages to downgrade. This is OK. Follow the prompts.\n",
    "\n",
    "`googlemaps` isn't available as a conda package at all, so it's installed with `pip`, the general-purpose Python package installer, like so:\n",
    "\n",
    "```\n",
    "pip install -U googlemaps\n",
    "```\n",
    "\n",
    "## Running Python notebooks\n",
    "\n",
    "Once you've installed Python and downloaded (and unzipped) the course materials, you're almost ready to go. The last step is to start what's called a Jupyter notebook server, which will allow you to load, read, modify, and run course code.\n",
    "\n",
    "I generally start a notebook server from the command line with `jupyter notebook`. You can also use the Anadonca Navigator app to launch a notebook server.  The Navigator app is located in your Anaconda install directory and might also be linked from your desktop. Its icon looks like a scaly green 'O':\n",
    "\n",
    "![Navigator logo](Images/Navigator.png)\n",
    "\n",
    "When you start it, you'll see a screen that looks like the one below. Click the 'Launch' button under the Jupyter notebook logo.\n",
    "\n",
    "![Navigator start screen](Images/NavigatorScreenshot.png)\n",
    "\n",
    "From there, a browser window will open, displaying the files in your home directory. Use it to navigate to the folder containing the course materials and click on any notebook to start it in a new window. You're up and running!\n",
    "\n",
    "## Docs and info\n",
    "\n",
    "For more information on Anaconda, see [Continuum's documentation site](https://docs.continuum.io). For a user's guide to Jupyter notebooks, see either the built-in help from the 'Help' menu at the top of any running notebook or the [Jupyter project's documentation](https://jupyter.readthedocs.io/en/latest/index.html).\n",
    "\n",
    "As noted elsewhere, this class is nowhere near a proper introduction to programming in general or to Python in particular. When I teach this material to my own students, I use John Guttag's [_Introduction to Computation and Programming Using Python_](https://mitpress.mit.edu/books/introduction-computation-and-programming-using-python-0). Guttag is also currently offering a [free EdX version of his MIT Intro to CS course](https://www.edx.org/course/introduction-computer-science-mitx-6-00-1x-8#.U4x_iSiJKEk) if you can't get a proper intro CS course at your home university."
   ]
  },
  {
   "cell_type": "code",
   "execution_count": null,
   "metadata": {
    "collapsed": true
   },
   "outputs": [],
   "source": []
  }
 ],
 "metadata": {
  "anaconda-cloud": {},
  "kernelspec": {
   "display_name": "Python [carto]",
   "language": "python",
   "name": "Python [carto]"
  },
  "language_info": {
   "codemirror_mode": {
    "name": "ipython",
    "version": 3
   },
   "file_extension": ".py",
   "mimetype": "text/x-python",
   "name": "python",
   "nbconvert_exporter": "python",
   "pygments_lexer": "ipython3",
   "version": "3.5.0rc4"
  }
 },
 "nbformat": 4,
 "nbformat_minor": 0
}
